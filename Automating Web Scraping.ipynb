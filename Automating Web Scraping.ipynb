{
 "cells": [
  {
   "cell_type": "code",
   "execution_count": 1,
   "id": "edffb535",
   "metadata": {},
   "outputs": [
    {
     "name": "stdout",
     "output_type": "stream",
     "text": [
      "Requirement already satisfied: autoscraper in c:\\users\\bhara\\appdata\\local\\programs\\python\\python310\\lib\\site-packages (1.1.14)\n",
      "Requirement already satisfied: bs4 in c:\\users\\bhara\\appdata\\local\\programs\\python\\python310\\lib\\site-packages (from autoscraper) (0.0.1)\n",
      "Requirement already satisfied: lxml in c:\\users\\bhara\\appdata\\local\\programs\\python\\python310\\lib\\site-packages (from autoscraper) (4.9.1)\n",
      "Requirement already satisfied: requests in c:\\users\\bhara\\appdata\\local\\programs\\python\\python310\\lib\\site-packages (from autoscraper) (2.28.0)\n",
      "Requirement already satisfied: beautifulsoup4 in c:\\users\\bhara\\appdata\\local\\programs\\python\\python310\\lib\\site-packages (from bs4->autoscraper) (4.11.1)\n",
      "Requirement already satisfied: idna<4,>=2.5 in c:\\users\\bhara\\appdata\\local\\programs\\python\\python310\\lib\\site-packages (from requests->autoscraper) (3.3)\n",
      "Requirement already satisfied: certifi>=2017.4.17 in c:\\users\\bhara\\appdata\\local\\programs\\python\\python310\\lib\\site-packages (from requests->autoscraper) (2022.6.15)\n",
      "Requirement already satisfied: charset-normalizer~=2.0.0 in c:\\users\\bhara\\appdata\\local\\programs\\python\\python310\\lib\\site-packages (from requests->autoscraper) (2.0.12)\n",
      "Requirement already satisfied: urllib3<1.27,>=1.21.1 in c:\\users\\bhara\\appdata\\local\\programs\\python\\python310\\lib\\site-packages (from requests->autoscraper) (1.26.9)\n",
      "Requirement already satisfied: soupsieve>1.2 in c:\\users\\bhara\\appdata\\local\\programs\\python\\python310\\lib\\site-packages (from beautifulsoup4->bs4->autoscraper) (2.3.2.post1)\n"
     ]
    }
   ],
   "source": [
    "!pip install autoscraper"
   ]
  },
  {
   "cell_type": "code",
   "execution_count": 2,
   "id": "197f168c",
   "metadata": {},
   "outputs": [],
   "source": [
    "from autoscraper import AutoScraper"
   ]
  },
  {
   "cell_type": "code",
   "execution_count": 3,
   "id": "bb00b050",
   "metadata": {},
   "outputs": [],
   "source": [
    "url = 'https://github.com/Bharatsharma19?tab=repositories'"
   ]
  },
  {
   "cell_type": "code",
   "execution_count": 4,
   "id": "91d4caff",
   "metadata": {},
   "outputs": [
    {
     "name": "stdout",
     "output_type": "stream",
     "text": [
      "['1', 'Word-Counter-App', 'Main-Portfolio', 'Machine-Learning', 'Programming', 'Python', 'Bharatsharma19', 'Youtube-Channel-Data', 'JavaScript', 'React-App-Basic-Template', 'Sudoku-Solver', 'Bank-Note-Authenticator-App', 'Calculator-using-React', 'Youtube-Video-Downloader', 'Notes', 'Notification', 'My-Portfolio', 'Portfolio-with-JS', 'Movie-Searching-App', 'Notes-App', 'Password-Generator', 'Random-Color-Generator', 'Github-Profile-App', 'Slide-Show', 'Slider', 'Quiz-App', 'Countdown-Timer', 'Tiny', 'To-Do-List-using-JS', 'Weather-App', 'Portfolio']\n"
     ]
    }
   ],
   "source": [
    "wanted_list = [\"1\",\"Machine-Learning\",]\n",
    "\n",
    "scraper = AutoScraper()\n",
    "\n",
    "result = scraper.build(url, wanted_list)\n",
    "\n",
    "print(result)"
   ]
  },
  {
   "cell_type": "code",
   "execution_count": 5,
   "id": "43152598",
   "metadata": {},
   "outputs": [
    {
     "data": {
      "text/plain": [
       "{'rule_0raf': ['65',\n",
       "  '18',\n",
       "  '109',\n",
       "  '83',\n",
       "  '165',\n",
       "  '14',\n",
       "  '17',\n",
       "  '169',\n",
       "  '5',\n",
       "  '28',\n",
       "  '61',\n",
       "  '4',\n",
       "  '400',\n",
       "  '109',\n",
       "  '13',\n",
       "  '33',\n",
       "  '36',\n",
       "  '88',\n",
       "  '15',\n",
       "  '548',\n",
       "  '49',\n",
       "  '70',\n",
       "  '178',\n",
       "  '64',\n",
       "  '1',\n",
       "  '29',\n",
       "  '35',\n",
       "  '92',\n",
       "  '89'],\n",
       " 'rule_e28u': ['65',\n",
       "  '18',\n",
       "  '109',\n",
       "  '83',\n",
       "  '165',\n",
       "  '14',\n",
       "  '17',\n",
       "  '169',\n",
       "  '5',\n",
       "  '28',\n",
       "  '61',\n",
       "  '4',\n",
       "  '400',\n",
       "  '109',\n",
       "  '13',\n",
       "  '33',\n",
       "  '36',\n",
       "  '88',\n",
       "  '15',\n",
       "  '548',\n",
       "  '49',\n",
       "  '70',\n",
       "  '178',\n",
       "  '64',\n",
       "  '1',\n",
       "  '29',\n",
       "  '35',\n",
       "  '92',\n",
       "  '89'],\n",
       " 'rule_px04': ['65',\n",
       "  '18',\n",
       "  '109',\n",
       "  '83',\n",
       "  '165',\n",
       "  '14',\n",
       "  '17',\n",
       "  '169',\n",
       "  '5',\n",
       "  '28',\n",
       "  '61',\n",
       "  '4',\n",
       "  '400',\n",
       "  '109',\n",
       "  '13',\n",
       "  '33',\n",
       "  '36',\n",
       "  '88',\n",
       "  '15',\n",
       "  '548',\n",
       "  '49',\n",
       "  '70',\n",
       "  '178',\n",
       "  '64',\n",
       "  '1',\n",
       "  '29',\n",
       "  '35',\n",
       "  '92',\n",
       "  '89'],\n",
       " 'rule_uiyr': ['65',\n",
       "  '18',\n",
       "  '109',\n",
       "  '83',\n",
       "  '165',\n",
       "  '14',\n",
       "  '17',\n",
       "  '169',\n",
       "  '5',\n",
       "  '28',\n",
       "  '61',\n",
       "  '4',\n",
       "  '400',\n",
       "  '109',\n",
       "  '13',\n",
       "  '33',\n",
       "  '36',\n",
       "  '88',\n",
       "  '15',\n",
       "  '548',\n",
       "  '49',\n",
       "  '70',\n",
       "  '178',\n",
       "  '64',\n",
       "  '1',\n",
       "  '29',\n",
       "  '35',\n",
       "  '92',\n",
       "  '89'],\n",
       " 'rule_sou9': ['65',\n",
       "  '18',\n",
       "  '109',\n",
       "  '83',\n",
       "  '165',\n",
       "  '14',\n",
       "  '17',\n",
       "  '169',\n",
       "  '5',\n",
       "  '28',\n",
       "  '61',\n",
       "  '4',\n",
       "  '400',\n",
       "  '109',\n",
       "  '13',\n",
       "  '33',\n",
       "  '36',\n",
       "  '88',\n",
       "  '15',\n",
       "  '548',\n",
       "  '49',\n",
       "  '70',\n",
       "  '178',\n",
       "  '64',\n",
       "  '1',\n",
       "  '29',\n",
       "  '35',\n",
       "  '92',\n",
       "  '89'],\n",
       " 'rule_0zw1': ['65',\n",
       "  '18',\n",
       "  '109',\n",
       "  '83',\n",
       "  '165',\n",
       "  '14',\n",
       "  '17',\n",
       "  '169',\n",
       "  '5',\n",
       "  '28',\n",
       "  '61',\n",
       "  '4',\n",
       "  '400',\n",
       "  '109',\n",
       "  '13',\n",
       "  '33',\n",
       "  '36',\n",
       "  '88',\n",
       "  '15',\n",
       "  '548',\n",
       "  '49',\n",
       "  '70',\n",
       "  '178',\n",
       "  '64',\n",
       "  '1',\n",
       "  '29',\n",
       "  '35',\n",
       "  '92',\n",
       "  '89'],\n",
       " 'rule_9o92': ['65',\n",
       "  '18',\n",
       "  '109',\n",
       "  '83',\n",
       "  '165',\n",
       "  '14',\n",
       "  '17',\n",
       "  '169',\n",
       "  '5',\n",
       "  '28',\n",
       "  '61',\n",
       "  '4',\n",
       "  '400',\n",
       "  '109',\n",
       "  '13',\n",
       "  '33',\n",
       "  '36',\n",
       "  '88',\n",
       "  '15',\n",
       "  '548',\n",
       "  '49',\n",
       "  '70',\n",
       "  '178',\n",
       "  '64',\n",
       "  '1',\n",
       "  '29',\n",
       "  '35',\n",
       "  '92',\n",
       "  '89'],\n",
       " 'rule_pcfa': ['bostonhousepricing',\n",
       "  'Machine-Learning-Algorithms-Materials',\n",
       "  'Tutorials-Python-In-Hindi',\n",
       "  'Malaria-Detection',\n",
       "  'Deep-Learning-Car-Brand',\n",
       "  'Stock-MArket-Forecasting',\n",
       "  'machinelearningproject',\n",
       "  'NLP-Live',\n",
       "  'Car-Price-Prediction',\n",
       "  'Test',\n",
       "  'Image-Webscrapper',\n",
       "  'Gender-Recognition-and-Age-Estimator',\n",
       "  'NLP-In-Hindi',\n",
       "  'Python-Practise-Problems',\n",
       "  'ARIMA-And-Seasonal-ARIMA',\n",
       "  'Airfoil-Regression-With-Deployment',\n",
       "  'Complete-Deep-Learning-With-Materials',\n",
       "  'Weather-Chatbot-Using-Luis',\n",
       "  'Dockers',\n",
       "  'HousePricePrediction',\n",
       "  'Interview-Prepartion-Data-Science',\n",
       "  'Live-Time-Series',\n",
       "  '5-Days-Live-EDA-and-Feature-Engineering',\n",
       "  'Natural-Language-Processing',\n",
       "  'RegressionandLasso',\n",
       "  'Python-Tutorials-In-Hindi',\n",
       "  'Mysql-Complete-Playlist',\n",
       "  'Keras-Tuner',\n",
       "  'Finding-an-Outlier',\n",
       "  'Credit-Card-Fraudlent']}"
      ]
     },
     "execution_count": 5,
     "metadata": {},
     "output_type": "execute_result"
    }
   ],
   "source": [
    "scraper.get_result_similar('https://github.com/krishnaik06?tab=repositories', grouped = True)"
   ]
  },
  {
   "cell_type": "code",
   "execution_count": 7,
   "id": "5b61dd78",
   "metadata": {},
   "outputs": [],
   "source": [
    "scraper.set_rule_aliases({'rule_0raf': 'Stars'})\n",
    "scraper.keep_rules(['rule_0raf'])\n",
    "scraper.save('github-repository-search')"
   ]
  },
  {
   "cell_type": "code",
   "execution_count": 8,
   "id": "e8a3b9fe",
   "metadata": {},
   "outputs": [
    {
     "data": {
      "text/plain": [
       "{'Stars': ['65',\n",
       "  '18',\n",
       "  '109',\n",
       "  '83',\n",
       "  '165',\n",
       "  '14',\n",
       "  '17',\n",
       "  '169',\n",
       "  '5',\n",
       "  '28',\n",
       "  '61',\n",
       "  '4',\n",
       "  '400',\n",
       "  '109',\n",
       "  '13',\n",
       "  '33',\n",
       "  '36',\n",
       "  '88',\n",
       "  '15',\n",
       "  '548',\n",
       "  '49',\n",
       "  '70',\n",
       "  '178',\n",
       "  '64',\n",
       "  '1',\n",
       "  '29',\n",
       "  '35',\n",
       "  '92',\n",
       "  '89']}"
      ]
     },
     "execution_count": 8,
     "metadata": {},
     "output_type": "execute_result"
    }
   ],
   "source": [
    "scraper.get_result_similar('https://github.com/krishnaik06?tab=repositories', group_by_alias = True)"
   ]
  },
  {
   "cell_type": "code",
   "execution_count": 9,
   "id": "1fc4475e",
   "metadata": {},
   "outputs": [],
   "source": [
    "scraper.load('github-repository-search')"
   ]
  },
  {
   "cell_type": "code",
   "execution_count": 10,
   "id": "e379fc22",
   "metadata": {},
   "outputs": [],
   "source": [
    "result = scraper.get_result_similar('https://github.com/krishnaik06?tab=repositories')"
   ]
  },
  {
   "cell_type": "code",
   "execution_count": 11,
   "id": "d1b240fa",
   "metadata": {},
   "outputs": [
    {
     "data": {
      "text/plain": [
       "['65',\n",
       " '18',\n",
       " '109',\n",
       " '83',\n",
       " '165',\n",
       " '14',\n",
       " '17',\n",
       " '169',\n",
       " '5',\n",
       " '28',\n",
       " '61',\n",
       " '4',\n",
       " '400',\n",
       " '13',\n",
       " '33',\n",
       " '36',\n",
       " '88',\n",
       " '15',\n",
       " '548',\n",
       " '49',\n",
       " '70',\n",
       " '178',\n",
       " '64',\n",
       " '1',\n",
       " '29',\n",
       " '35',\n",
       " '92',\n",
       " '89']"
      ]
     },
     "execution_count": 11,
     "metadata": {},
     "output_type": "execute_result"
    }
   ],
   "source": [
    "result"
   ]
  },
  {
   "cell_type": "code",
   "execution_count": 12,
   "id": "5af2a579",
   "metadata": {},
   "outputs": [
    {
     "name": "stdout",
     "output_type": "stream",
     "text": [
      "End\n"
     ]
    }
   ],
   "source": [
    "print(\"End\")"
   ]
  }
 ],
 "metadata": {
  "kernelspec": {
   "display_name": "Python 3 (ipykernel)",
   "language": "python",
   "name": "python3"
  },
  "language_info": {
   "codemirror_mode": {
    "name": "ipython",
    "version": 3
   },
   "file_extension": ".py",
   "mimetype": "text/x-python",
   "name": "python",
   "nbconvert_exporter": "python",
   "pygments_lexer": "ipython3",
   "version": "3.10.5"
  }
 },
 "nbformat": 4,
 "nbformat_minor": 5
}
