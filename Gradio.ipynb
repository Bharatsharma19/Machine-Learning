{
 "cells": [
  {
   "cell_type": "code",
   "execution_count": 1,
   "id": "504c23a9",
   "metadata": {},
   "outputs": [
    {
     "name": "stdout",
     "output_type": "stream",
     "text": [
      "Requirement already satisfied: gradio in c:\\users\\bhara\\appdata\\local\\programs\\python\\python310\\lib\\site-packages (3.1.0)\n",
      "Requirement already satisfied: analytics-python in c:\\users\\bhara\\appdata\\local\\programs\\python\\python310\\lib\\site-packages (from gradio) (1.4.0)\n",
      "Requirement already satisfied: aiohttp in c:\\users\\bhara\\appdata\\local\\programs\\python\\python310\\lib\\site-packages (from gradio) (3.8.1)\n",
      "Requirement already satisfied: numpy in c:\\users\\bhara\\appdata\\local\\programs\\python\\python310\\lib\\site-packages (from gradio) (1.22.4)\n",
      "Requirement already satisfied: matplotlib in c:\\users\\bhara\\appdata\\local\\programs\\python\\python310\\lib\\site-packages (from gradio) (3.5.2)\n",
      "Requirement already satisfied: pandas in c:\\users\\bhara\\appdata\\local\\programs\\python\\python310\\lib\\site-packages (from gradio) (1.4.3)\n",
      "Requirement already satisfied: orjson in c:\\users\\bhara\\appdata\\local\\programs\\python\\python310\\lib\\site-packages (from gradio) (3.7.8)\n",
      "Requirement already satisfied: ffmpy in c:\\users\\bhara\\appdata\\local\\programs\\python\\python310\\lib\\site-packages (from gradio) (0.3.0)\n",
      "Requirement already satisfied: h11<0.13,>=0.11 in c:\\users\\bhara\\appdata\\local\\programs\\python\\python310\\lib\\site-packages (from gradio) (0.12.0)\n",
      "Requirement already satisfied: pydub in c:\\users\\bhara\\appdata\\local\\programs\\python\\python310\\lib\\site-packages (from gradio) (0.25.1)\n",
      "Requirement already satisfied: paramiko in c:\\users\\bhara\\appdata\\local\\programs\\python\\python310\\lib\\site-packages (from gradio) (2.11.0)\n",
      "Requirement already satisfied: markdown-it-py[linkify,plugins] in c:\\users\\bhara\\appdata\\local\\programs\\python\\python310\\lib\\site-packages (from gradio) (2.1.0)\n",
      "Requirement already satisfied: httpx in c:\\users\\bhara\\appdata\\local\\programs\\python\\python310\\lib\\site-packages (from gradio) (0.23.0)\n",
      "Requirement already satisfied: pycryptodome in c:\\users\\bhara\\appdata\\local\\programs\\python\\python310\\lib\\site-packages (from gradio) (3.15.0)\n",
      "Requirement already satisfied: fastapi in c:\\users\\bhara\\appdata\\local\\programs\\python\\python310\\lib\\site-packages (from gradio) (0.79.0)\n",
      "Requirement already satisfied: pillow in c:\\users\\bhara\\appdata\\local\\programs\\python\\python310\\lib\\site-packages (from gradio) (9.1.1)\n",
      "Requirement already satisfied: requests in c:\\users\\bhara\\appdata\\local\\programs\\python\\python310\\lib\\site-packages (from gradio) (2.28.0)\n",
      "Requirement already satisfied: uvicorn in c:\\users\\bhara\\appdata\\local\\programs\\python\\python310\\lib\\site-packages (from gradio) (0.18.2)\n",
      "Requirement already satisfied: fsspec in c:\\users\\bhara\\appdata\\local\\programs\\python\\python310\\lib\\site-packages (from gradio) (2022.5.0)\n",
      "Requirement already satisfied: Jinja2 in c:\\users\\bhara\\appdata\\local\\programs\\python\\python310\\lib\\site-packages (from gradio) (3.1.2)\n",
      "Requirement already satisfied: pydantic in c:\\users\\bhara\\appdata\\local\\programs\\python\\python310\\lib\\site-packages (from gradio) (1.9.1)\n",
      "Requirement already satisfied: python-multipart in c:\\users\\bhara\\appdata\\local\\programs\\python\\python310\\lib\\site-packages (from gradio) (0.0.5)\n",
      "Requirement already satisfied: charset-normalizer<3.0,>=2.0 in c:\\users\\bhara\\appdata\\local\\programs\\python\\python310\\lib\\site-packages (from aiohttp->gradio) (2.0.12)\n",
      "Requirement already satisfied: aiosignal>=1.1.2 in c:\\users\\bhara\\appdata\\local\\programs\\python\\python310\\lib\\site-packages (from aiohttp->gradio) (1.2.0)\n",
      "Requirement already satisfied: async-timeout<5.0,>=4.0.0a3 in c:\\users\\bhara\\appdata\\local\\programs\\python\\python310\\lib\\site-packages (from aiohttp->gradio) (4.0.2)\n",
      "Requirement already satisfied: attrs>=17.3.0 in c:\\users\\bhara\\appdata\\local\\programs\\python\\python310\\lib\\site-packages (from aiohttp->gradio) (21.4.0)\n",
      "Requirement already satisfied: yarl<2.0,>=1.0 in c:\\users\\bhara\\appdata\\local\\programs\\python\\python310\\lib\\site-packages (from aiohttp->gradio) (1.7.2)\n",
      "Requirement already satisfied: multidict<7.0,>=4.5 in c:\\users\\bhara\\appdata\\local\\programs\\python\\python310\\lib\\site-packages (from aiohttp->gradio) (6.0.2)\n",
      "Requirement already satisfied: frozenlist>=1.1.1 in c:\\users\\bhara\\appdata\\local\\programs\\python\\python310\\lib\\site-packages (from aiohttp->gradio) (1.3.0)\n",
      "Requirement already satisfied: monotonic>=1.5 in c:\\users\\bhara\\appdata\\local\\programs\\python\\python310\\lib\\site-packages (from analytics-python->gradio) (1.6)\n",
      "Requirement already satisfied: six>=1.5 in c:\\users\\bhara\\appdata\\local\\programs\\python\\python310\\lib\\site-packages (from analytics-python->gradio) (1.16.0)\n",
      "Requirement already satisfied: backoff==1.10.0 in c:\\users\\bhara\\appdata\\local\\programs\\python\\python310\\lib\\site-packages (from analytics-python->gradio) (1.10.0)\n",
      "Requirement already satisfied: python-dateutil>2.1 in c:\\users\\bhara\\appdata\\local\\programs\\python\\python310\\lib\\site-packages (from analytics-python->gradio) (2.8.2)\n",
      "Requirement already satisfied: certifi>=2017.4.17 in c:\\users\\bhara\\appdata\\local\\programs\\python\\python310\\lib\\site-packages (from requests->gradio) (2022.6.15)\n",
      "Requirement already satisfied: urllib3<1.27,>=1.21.1 in c:\\users\\bhara\\appdata\\local\\programs\\python\\python310\\lib\\site-packages (from requests->gradio) (1.26.9)\n",
      "Requirement already satisfied: idna<4,>=2.5 in c:\\users\\bhara\\appdata\\local\\programs\\python\\python310\\lib\\site-packages (from requests->gradio) (3.3)\n",
      "Requirement already satisfied: starlette==0.19.1 in c:\\users\\bhara\\appdata\\local\\programs\\python\\python310\\lib\\site-packages (from fastapi->gradio) (0.19.1)\n",
      "Requirement already satisfied: anyio<5,>=3.4.0 in c:\\users\\bhara\\appdata\\local\\programs\\python\\python310\\lib\\site-packages (from starlette==0.19.1->fastapi->gradio) (3.6.1)\n",
      "Requirement already satisfied: typing-extensions>=3.7.4.3 in c:\\users\\bhara\\appdata\\local\\programs\\python\\python310\\lib\\site-packages (from pydantic->gradio) (4.3.0)\n",
      "Requirement already satisfied: sniffio in c:\\users\\bhara\\appdata\\local\\programs\\python\\python310\\lib\\site-packages (from httpx->gradio) (1.2.0)\n",
      "Requirement already satisfied: rfc3986[idna2008]<2,>=1.3 in c:\\users\\bhara\\appdata\\local\\programs\\python\\python310\\lib\\site-packages (from httpx->gradio) (1.5.0)\n",
      "Requirement already satisfied: httpcore<0.16.0,>=0.15.0 in c:\\users\\bhara\\appdata\\local\\programs\\python\\python310\\lib\\site-packages (from httpx->gradio) (0.15.0)\n",
      "Requirement already satisfied: MarkupSafe>=2.0 in c:\\users\\bhara\\appdata\\local\\programs\\python\\python310\\lib\\site-packages (from Jinja2->gradio) (2.1.1)\n",
      "Requirement already satisfied: mdurl~=0.1 in c:\\users\\bhara\\appdata\\local\\programs\\python\\python310\\lib\\site-packages (from markdown-it-py[linkify,plugins]->gradio) (0.1.1)\n",
      "Requirement already satisfied: linkify-it-py~=1.0 in c:\\users\\bhara\\appdata\\local\\programs\\python\\python310\\lib\\site-packages (from markdown-it-py[linkify,plugins]->gradio) (1.0.3)\n",
      "Requirement already satisfied: mdit-py-plugins in c:\\users\\bhara\\appdata\\local\\programs\\python\\python310\\lib\\site-packages (from markdown-it-py[linkify,plugins]->gradio) (0.3.0)\n",
      "Requirement already satisfied: fonttools>=4.22.0 in c:\\users\\bhara\\appdata\\local\\programs\\python\\python310\\lib\\site-packages (from matplotlib->gradio) (4.33.3)\n",
      "Requirement already satisfied: cycler>=0.10 in c:\\users\\bhara\\appdata\\local\\programs\\python\\python310\\lib\\site-packages (from matplotlib->gradio) (0.11.0)\n",
      "Requirement already satisfied: kiwisolver>=1.0.1 in c:\\users\\bhara\\appdata\\local\\programs\\python\\python310\\lib\\site-packages (from matplotlib->gradio) (1.4.3)\n",
      "Requirement already satisfied: packaging>=20.0 in c:\\users\\bhara\\appdata\\local\\programs\\python\\python310\\lib\\site-packages (from matplotlib->gradio) (21.3)\n",
      "Requirement already satisfied: pyparsing>=2.2.1 in c:\\users\\bhara\\appdata\\local\\programs\\python\\python310\\lib\\site-packages (from matplotlib->gradio) (3.0.9)\n",
      "Requirement already satisfied: pytz>=2020.1 in c:\\users\\bhara\\appdata\\local\\programs\\python\\python310\\lib\\site-packages (from pandas->gradio) (2022.1)\n",
      "Requirement already satisfied: pynacl>=1.0.1 in c:\\users\\bhara\\appdata\\local\\programs\\python\\python310\\lib\\site-packages (from paramiko->gradio) (1.5.0)\n",
      "Requirement already satisfied: bcrypt>=3.1.3 in c:\\users\\bhara\\appdata\\local\\programs\\python\\python310\\lib\\site-packages (from paramiko->gradio) (3.2.2)\n",
      "Requirement already satisfied: cryptography>=2.5 in c:\\users\\bhara\\appdata\\local\\programs\\python\\python310\\lib\\site-packages (from paramiko->gradio) (37.0.4)\n",
      "Requirement already satisfied: click>=7.0 in c:\\users\\bhara\\appdata\\local\\programs\\python\\python310\\lib\\site-packages (from uvicorn->gradio) (8.1.3)\n",
      "Requirement already satisfied: cffi>=1.1 in c:\\users\\bhara\\appdata\\local\\programs\\python\\python310\\lib\\site-packages (from bcrypt>=3.1.3->paramiko->gradio) (1.15.0)\n",
      "Requirement already satisfied: colorama in c:\\users\\bhara\\appdata\\local\\programs\\python\\python310\\lib\\site-packages (from click>=7.0->uvicorn->gradio) (0.4.5)\n",
      "Requirement already satisfied: uc-micro-py in c:\\users\\bhara\\appdata\\local\\programs\\python\\python310\\lib\\site-packages (from linkify-it-py~=1.0->markdown-it-py[linkify,plugins]->gradio) (1.0.1)\n",
      "Requirement already satisfied: pycparser in c:\\users\\bhara\\appdata\\local\\programs\\python\\python310\\lib\\site-packages (from cffi>=1.1->bcrypt>=3.1.3->paramiko->gradio) (2.21)\n"
     ]
    }
   ],
   "source": [
    "!pip install gradio"
   ]
  },
  {
   "cell_type": "code",
   "execution_count": null,
   "id": "383c96b8",
   "metadata": {},
   "outputs": [],
   "source": [
    "import tensorflow as tf"
   ]
  },
  {
   "cell_type": "code",
   "execution_count": null,
   "id": "04336ca5",
   "metadata": {},
   "outputs": [],
   "source": [
    "import gradio as gr\n",
    "import numpy as np\n",
    "from PIL import Image\n",
    "import requests"
   ]
  },
  {
   "cell_type": "code",
   "execution_count": null,
   "id": "0028561d",
   "metadata": {},
   "outputs": [],
   "source": [
    "response = requests.get(\"https://git.io/JJkYN\")\n",
    "labels = response.text.split(\"\\n\")"
   ]
  },
  {
   "cell_type": "code",
   "execution_count": null,
   "id": "5893c5f5",
   "metadata": {},
   "outputs": [],
   "source": [
    "mobile_net = tf.keras.applications.MobileNetV2()\n",
    "inception_net = tf.keras.applications.InceptionV3()"
   ]
  },
  {
   "cell_type": "code",
   "execution_count": null,
   "id": "0a3c13aa",
   "metadata": {},
   "outputs": [],
   "source": [
    "def classify_image_with_mobile_net(im):\n",
    "    im = Image.fromarray(im.astype('uint8'), 'RGB')\n",
    "    im = im.resize((224, 224))\n",
    "    arr = np.array(im).reshape((-1, 224, 224, 3))\n",
    "    arr = tf.keras.applications.mobilenet.preprocess_input(arr)\n",
    "    prediction = mobile_net.predict(arr).flatten()\n",
    "    return {labels[i]: float(prediction[i]) for i in range(1000)}"
   ]
  },
  {
   "cell_type": "code",
   "execution_count": null,
   "id": "a7c37728",
   "metadata": {},
   "outputs": [],
   "source": [
    "def classify_image_with_inception_net(im):\n",
    "    # Resize the image to\n",
    "    im = Image.fromarray(im.astype('uint8'), 'RGB')\n",
    "    im = im.resize((299, 299))\n",
    "    arr = np.array(im).reshape((-1, 299, 299, 3))\n",
    "    arr = tf.keras.applications.inception_v3.preprocess_input(arr)\n",
    "    prediction = inception_net.predict(arr).flatten()\n",
    "    return {labels[i]: float(prediction[i]) for i in range(1000)}"
   ]
  },
  {
   "cell_type": "code",
   "execution_count": null,
   "id": "0eebeedc",
   "metadata": {},
   "outputs": [],
   "source": [
    "imagein = gr.inputs.Image()\n",
    "label = gr.outputs.Label(num_top_classes=3)\n",
    "sample_images = [\n",
    "                 [\"monkey.jpg\"],\n",
    "                 [\"sailboat.jpg\"],\n",
    "                 [\"bicycle.jpg\"],\n",
    "                 [\"download.jpg\"],\n",
    "                 [\"fox.jpg\"]\n",
    "]"
   ]
  },
  {
   "cell_type": "code",
   "execution_count": null,
   "id": "f0e84bfd",
   "metadata": {},
   "outputs": [],
   "source": [
    "gr.Interface(\n",
    "    [classify_image_with_mobile_net, classify_image_with_inception_net],\n",
    "    imagein,\n",
    "    label,\n",
    "    title=\"MobileNet vs. InceptionNet\",\n",
    "    description=\"\"\"Let's compare 2 state-of-the-art machine learning models that classify images into one of 1,000 categories: MobileNet (top),\n",
    "          a lightweight model that has an accuracy of 0.704, vs. InceptionNet\n",
    "          (bottom), a much heavier model that has an accuracy of 0.779.\"\"\",\n",
    "    examples=sample_images).launch();"
   ]
  }
 ],
 "metadata": {
  "kernelspec": {
   "display_name": "Python 3 (ipykernel)",
   "language": "python",
   "name": "python3"
  },
  "language_info": {
   "codemirror_mode": {
    "name": "ipython",
    "version": 3
   },
   "file_extension": ".py",
   "mimetype": "text/x-python",
   "name": "python",
   "nbconvert_exporter": "python",
   "pygments_lexer": "ipython3",
   "version": "3.10.5"
  }
 },
 "nbformat": 4,
 "nbformat_minor": 5
}
