{
 "cells": [
  {
   "cell_type": "code",
   "execution_count": 1,
   "id": "050370f3",
   "metadata": {},
   "outputs": [],
   "source": [
    "from pywebio.input import *\n",
    "from pywebio.output import *"
   ]
  },
  {
   "cell_type": "code",
   "execution_count": 2,
   "id": "7c1ee434",
   "metadata": {},
   "outputs": [],
   "source": [
    "name=input(\"Enter the name\",type=\"text\")"
   ]
  },
  {
   "cell_type": "code",
   "execution_count": 3,
   "id": "e8185461",
   "metadata": {},
   "outputs": [
    {
     "data": {
      "text/plain": [
       "'Bharat Sharma'"
      ]
     },
     "execution_count": 3,
     "metadata": {},
     "output_type": "execute_result"
    }
   ],
   "source": [
    "name"
   ]
  },
  {
   "cell_type": "code",
   "execution_count": 4,
   "id": "d4255ea3",
   "metadata": {},
   "outputs": [],
   "source": [
    "# Password input\n",
    "password = input(\"Input password\", type=PASSWORD)\n",
    "\n",
    "# Drop-down selection\n",
    "gift = select('Which gift you want?', ['keyboard', 'ipad'])\n",
    "\n",
    "# Checkbox\n",
    "agree = checkbox(\"User Term\", options=['I agree to terms and conditions'])\n",
    "\n",
    "# Single choice\n",
    "answer = radio(\"Choose one\", options=['A', 'B', 'C', 'D'])\n",
    "\n",
    "# Multi-line text input\n",
    "text = textarea('Text Area', rows=3, placeholder='Some text')\n",
    "\n",
    "# File Upload\n",
    "img = file_upload(\"Select a image:\", accept=\"image/*\")"
   ]
  },
  {
   "cell_type": "code",
   "execution_count": 5,
   "id": "9c01c148",
   "metadata": {},
   "outputs": [
    {
     "data": {
      "text/plain": [
       "'keyboard'"
      ]
     },
     "execution_count": 5,
     "metadata": {},
     "output_type": "execute_result"
    }
   ],
   "source": [
    "gift"
   ]
  },
  {
   "cell_type": "code",
   "execution_count": 6,
   "id": "908deb3a",
   "metadata": {},
   "outputs": [
    {
     "data": {
      "text/plain": [
       "[]"
      ]
     },
     "execution_count": 6,
     "metadata": {},
     "output_type": "execute_result"
    }
   ],
   "source": [
    "agree"
   ]
  },
  {
   "cell_type": "code",
   "execution_count": 7,
   "id": "3f04edeb",
   "metadata": {},
   "outputs": [],
   "source": [
    "answer"
   ]
  },
  {
   "cell_type": "code",
   "execution_count": 8,
   "id": "1cd47054",
   "metadata": {},
   "outputs": [
    {
     "data": {
      "text/plain": [
       "'Hello, This is Bharat Sharma'"
      ]
     },
     "execution_count": 8,
     "metadata": {},
     "output_type": "execute_result"
    }
   ],
   "source": [
    "text"
   ]
  },
  {
   "cell_type": "code",
   "execution_count": 9,
   "id": "872b912a",
   "metadata": {},
   "outputs": [],
   "source": [
    "img"
   ]
  },
  {
   "cell_type": "code",
   "execution_count": 10,
   "id": "5747aab6",
   "metadata": {},
   "outputs": [
    {
     "data": {
      "text/plain": [
       "'Password'"
      ]
     },
     "execution_count": 10,
     "metadata": {},
     "output_type": "execute_result"
    }
   ],
   "source": [
    "password"
   ]
  },
  {
   "cell_type": "code",
   "execution_count": 11,
   "id": "cd78ccfd",
   "metadata": {},
   "outputs": [],
   "source": [
    "code = textarea('Code Edit', code={\n",
    "    'mode': \"python\",\n",
    "    'theme': 'darcula',\n",
    "}, value='import something\\n# Write your python code')"
   ]
  },
  {
   "cell_type": "code",
   "execution_count": 12,
   "id": "84741db2",
   "metadata": {},
   "outputs": [
    {
     "data": {
      "text/plain": [
       "'import something\\n# Write your python code\\nprint(\"Hello\")'"
      ]
     },
     "execution_count": 12,
     "metadata": {},
     "output_type": "execute_result"
    }
   ],
   "source": [
    "code"
   ]
  },
  {
   "cell_type": "code",
   "execution_count": 13,
   "id": "8a98d245",
   "metadata": {},
   "outputs": [],
   "source": [
    "data = input_group(\"Basic info\",[\n",
    "  input('Input your name', name='name')\n",
    "])"
   ]
  },
  {
   "cell_type": "code",
   "execution_count": 14,
   "id": "71cf62b5",
   "metadata": {},
   "outputs": [
    {
     "data": {
      "text/plain": [
       "{'name': 'Bharat Sharma'}"
      ]
     },
     "execution_count": 14,
     "metadata": {},
     "output_type": "execute_result"
    }
   ],
   "source": [
    "data"
   ]
  },
  {
   "cell_type": "code",
   "execution_count": 15,
   "id": "7173b9cd",
   "metadata": {},
   "outputs": [
    {
     "data": {
      "text/plain": [
       "<pywebio.output.use_scope_ at 0x1e0fc469ea0>"
      ]
     },
     "execution_count": 15,
     "metadata": {},
     "output_type": "execute_result"
    }
   ],
   "source": [
    "from pywebio.output import *\n",
    "# Text Output\n",
    "put_text(\"Hello world!\")\n",
    "\n",
    "# Table Output\n",
    "put_table([\n",
    "    ['Commodity', 'Price'],\n",
    "    ['Apple', '5.5'],\n",
    "    ['Banana', '7'],\n",
    "])\n",
    "\n",
    "# Markdown Output\n",
    "put_markdown('~~Strikethrough~~')\n",
    "\n",
    "# File Output\n",
    "put_file('hello_word.txt', b'hello word!')\n",
    "\n",
    "# PopUp Output\n",
    "popup('popup title', 'popup text content')"
   ]
  },
  {
   "cell_type": "code",
   "execution_count": 16,
   "id": "f00c5e85",
   "metadata": {},
   "outputs": [],
   "source": [
    "with put_collapse('This is title'):\n",
    "    for i in range(4):\n",
    "        put_text(i)\n",
    "\n",
    "    put_table([\n",
    "        ['Commodity', 'Price'],\n",
    "        ['Apple', '5.5'],\n",
    "        ['Banana', '7'],\n",
    "    ])"
   ]
  }
 ],
 "metadata": {
  "kernelspec": {
   "display_name": "Python 3 (ipykernel)",
   "language": "python",
   "name": "python3"
  },
  "language_info": {
   "codemirror_mode": {
    "name": "ipython",
    "version": 3
   },
   "file_extension": ".py",
   "mimetype": "text/x-python",
   "name": "python",
   "nbconvert_exporter": "python",
   "pygments_lexer": "ipython3",
   "version": "3.10.5"
  }
 },
 "nbformat": 4,
 "nbformat_minor": 5
}
