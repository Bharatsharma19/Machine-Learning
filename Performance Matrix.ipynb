{
 "cells": [
  {
   "cell_type": "code",
   "execution_count": 1,
   "id": "4c50b256",
   "metadata": {},
   "outputs": [],
   "source": [
    "from sklearn import metrics"
   ]
  },
  {
   "cell_type": "code",
   "execution_count": 2,
   "id": "dbe74e51",
   "metadata": {},
   "outputs": [],
   "source": [
    "C = \"Cat\"\n",
    "D = \"Dog\"\n",
    "F = \"Fox\""
   ]
  },
  {
   "cell_type": "code",
   "execution_count": 3,
   "id": "e3303375",
   "metadata": {},
   "outputs": [
    {
     "name": "stdout",
     "output_type": "stream",
     "text": [
      "[[4 1 1]\n",
      " [3 6 1]\n",
      " [7 2 1]]\n",
      "              precision    recall  f1-score   support\n",
      "\n",
      "         Cat      0.286     0.667     0.400         6\n",
      "         Dog      0.667     0.600     0.632        10\n",
      "         Fox      0.333     0.100     0.154        10\n",
      "\n",
      "    accuracy                          0.423        26\n",
      "   macro avg      0.429     0.456     0.395        26\n",
      "weighted avg      0.451     0.423     0.394        26\n",
      "\n"
     ]
    }
   ],
   "source": [
    "y_true = [C,C,C,C,C,C, F,F,F,F,F,F,F,F,F,F, D,D,D,D,D,D,D,D,D,D]\n",
    "\n",
    "y_pred = [C,C,C,C,D,F, C,C,C,C,C,C,C,D,D,F,F, C,C,C,D,D,D,D,D,D]\n",
    "\n",
    "print(metrics.confusion_matrix(y_true,y_pred))\n",
    "\n",
    "print(metrics.classification_report(y_true,y_pred,digits=3))"
   ]
  },
  {
   "cell_type": "code",
   "execution_count": null,
   "id": "9693934a",
   "metadata": {},
   "outputs": [],
   "source": []
  }
 ],
 "metadata": {
  "kernelspec": {
   "display_name": "Python 3 (ipykernel)",
   "language": "python",
   "name": "python3"
  },
  "language_info": {
   "codemirror_mode": {
    "name": "ipython",
    "version": 3
   },
   "file_extension": ".py",
   "mimetype": "text/x-python",
   "name": "python",
   "nbconvert_exporter": "python",
   "pygments_lexer": "ipython3",
   "version": "3.10.5"
  }
 },
 "nbformat": 4,
 "nbformat_minor": 5
}
